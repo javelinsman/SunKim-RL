{
 "cells": [
  {
   "cell_type": "markdown",
   "metadata": {},
   "source": [
    "# Exploit vs. Exploration\n"
   ]
  },
  {
   "cell_type": "code",
   "execution_count": 1,
   "metadata": {},
   "outputs": [],
   "source": [
    "import gym\n",
    "import numpy as np\n",
    "\n",
    "try:\n",
    "    gym.make('FrozenLake-v3')\n",
    "except:\n",
    "    gym.envs.registration.register(\n",
    "        id='FrozenLake-v3',\n",
    "        entry_point='gym.envs.toy_text:FrozenLakeEnv',\n",
    "        kwargs={\n",
    "            'map_name': '4x4',\n",
    "            'is_slippery': True # This option is mandatory for dummy algorithm\n",
    "        }\n",
    "    )"
   ]
  },
  {
   "cell_type": "code",
   "execution_count": 27,
   "metadata": {},
   "outputs": [],
   "source": [
    "env = gym.make('FrozenLake-v3')\n",
    "\n",
    "\n",
    "Q = np.zeros((env.observation_space.n, env.action_space.n))\n",
    "num_episodes = 2000\n",
    "\n",
    "discount = 0.99\n",
    "learning_rate = 0.85\n",
    "\n",
    "total_rewards = []\n",
    "for i in range(num_episodes):\n",
    "    state = env.reset()\n",
    "    done = False\n",
    "    sum_rewards = 0\n",
    "    while not done:\n",
    "        action = np.argmax(Q[state,:] + np.random.randn(env.action_space.n) / (i+1))\n",
    "        new_state, reward, done, info = env.step(action)    \n",
    "        Q[state,action] = (1 - learning_rate) * Q[state,action] + learning_rate * (reward + discount * np.max(Q[new_state, :]))\n",
    "        sum_rewards += reward\n",
    "        state = new_state\n",
    "    else:\n",
    "        total_rewards.append(sum_rewards)"
   ]
  },
  {
   "cell_type": "code",
   "execution_count": 28,
   "metadata": {},
   "outputs": [
    {
     "name": "stdout",
     "output_type": "stream",
     "text": [
      "0.696\n",
      "[[6.65124569e-01 9.96337852e-03 9.73751601e-03 8.37980346e-03]\n",
      " [4.34850875e-04 3.28576476e-04 6.48449064e-03 7.43633068e-01]\n",
      " [3.40316589e-03 3.03560526e-03 5.79312790e-03 4.57279702e-01]\n",
      " [9.80229323e-04 1.23951410e-03 0.00000000e+00 3.96818639e-01]\n",
      " [6.35703902e-01 1.13571271e-03 2.68900181e-04 3.91146902e-03]\n",
      " [0.00000000e+00 0.00000000e+00 0.00000000e+00 0.00000000e+00]\n",
      " [7.27263416e-02 7.43901278e-11 2.27530916e-04 1.39795233e-07]\n",
      " [0.00000000e+00 0.00000000e+00 0.00000000e+00 0.00000000e+00]\n",
      " [1.47962532e-03 1.05473759e-03 5.86137867e-03 5.19277262e-01]\n",
      " [8.12049750e-04 7.32558960e-01 0.00000000e+00 3.65110196e-03]\n",
      " [5.18845658e-01 0.00000000e+00 3.13969403e-04 5.46852930e-04]\n",
      " [0.00000000e+00 0.00000000e+00 0.00000000e+00 0.00000000e+00]\n",
      " [0.00000000e+00 0.00000000e+00 0.00000000e+00 0.00000000e+00]\n",
      " [2.37230875e-03 0.00000000e+00 8.48279535e-01 9.03922551e-04]\n",
      " [0.00000000e+00 9.76108690e-01 0.00000000e+00 0.00000000e+00]\n",
      " [0.00000000e+00 0.00000000e+00 0.00000000e+00 0.00000000e+00]]\n"
     ]
    }
   ],
   "source": [
    "print(sum(total_rewards) / num_episodes)\n",
    "print(Q)"
   ]
  },
  {
   "cell_type": "code",
   "execution_count": 29,
   "metadata": {},
   "outputs": [
    {
     "data": {
      "image/png": "[encoded data removed]",
      "text/plain": [
       "<matplotlib.figure.Figure at 0x1dc3c6270f0>"
      ]
     },
     "metadata": {},
     "output_type": "display_data"
    }
   ],
   "source": [
    "import matplotlib.pyplot as plt\n",
    "plt.bar(list(range(len(total_rewards))), total_rewards)\n",
    "plt.show()"
   ]
  }
 ],
 "metadata": {
  "kernelspec": {
   "display_name": "Python 3",
   "language": "python",
   "name": "python3"
  },
  "language_info": {
   "codemirror_mode": {
    "name": "ipython",
    "version": 3
   },
   "file_extension": ".py",
   "mimetype": "text/x-python",
   "name": "python",
   "nbconvert_exporter": "python",
   "pygments_lexer": "ipython3",
   "version": "3.6.4"
  }
 },
 "nbformat": 4,
 "nbformat_minor": 2
}
