{
 "cells": [
  {
   "cell_type": "markdown",
   "metadata": {},
   "source": [
    "# Q-network\n"
   ]
  },
  {
   "cell_type": "code",
   "execution_count": 24,
   "metadata": {},
   "outputs": [],
   "source": [
    "import gym\n",
    "import numpy as np\n",
    "import matplotlib.pyplot as plt\n",
    "import tensorflow as tf"
   ]
  },
  {
   "cell_type": "code",
   "execution_count": 26,
   "metadata": {},
   "outputs": [],
   "source": [
    "def one_hot(x, n):\n",
    "    return np.identity(n)[x:x+1]\n",
    "\n",
    "def reinforcement_learning(env):\n",
    "\n",
    "    input_size = env.observation_space.n\n",
    "    output_size = env.action_space.n\n",
    "    learning_rate = 0.1\n",
    "\n",
    "    X = tf.placeholder(shape=(1, input_size), dtype=tf.float32)\n",
    "    W = tf.Variable(tf.random_uniform((input_size, output_size), 0, 0.01))\n",
    "    Qpred = tf.matmul(X, W)\n",
    "\n",
    "    Y = tf.placeholder(shape=(1, output_size), dtype=tf.float32)\n",
    "    loss = tf.reduce_sum(tf.square(Y - Qpred))\n",
    "    train = tf.train.GradientDescentOptimizer(learning_rate=learning_rate).minimize(loss)\n",
    "\n",
    "    dis = 0.99\n",
    "    num_episodes = 2000\n",
    "\n",
    "    result_list = []\n",
    "\n",
    "    with tf.Session() as sess:\n",
    "        tf.global_variables_initializer().run()\n",
    "        for i in range(num_episodes):\n",
    "            if i % 50 == 0:\n",
    "                print(i)\n",
    "            state = env.reset()\n",
    "            e = 1 / ((i / 50) + 10)\n",
    "            rAll = 0\n",
    "            done = False\n",
    "            # local_loss = []\n",
    "\n",
    "            while not done:\n",
    "                Qs = sess.run(Qpred, feed_dict={X: one_hot(state, input_size)})\n",
    "                if np.random.rand(1) < e:\n",
    "                    action = env.action_space.sample()\n",
    "                else:\n",
    "                    action = np.argmax(Qs)\n",
    "                next_state, reward, done, _ = env.step(action)\n",
    "                if done:\n",
    "                    Qs[0, action] = reward\n",
    "                else:\n",
    "                    Qs1 = sess.run(Qpred, feed_dict={X: one_hot(next_state, input_size)})\n",
    "                    Qs[0, action] = reward + dis * np.max(Qs1)\n",
    "                train.run(feed_dict={X: one_hot(state, input_size), Y: Qs})\n",
    "\n",
    "                rAll += reward\n",
    "                state = next_state\n",
    "\n",
    "            result_list.append(rAll)\n",
    "    return result_list"
   ]
  },
  {
   "cell_type": "markdown",
   "metadata": {},
   "source": [
    "# Frozen Lake"
   ]
  },
  {
   "cell_type": "code",
   "execution_count": 27,
   "metadata": {},
   "outputs": [
    {
     "name": "stdout",
     "output_type": "stream",
     "text": [
      "0\n",
      "50\n",
      "100\n",
      "150\n",
      "200\n",
      "250\n",
      "300\n",
      "350\n",
      "400\n",
      "450\n",
      "500\n",
      "550\n",
      "600\n",
      "650\n",
      "700\n",
      "750\n",
      "800\n",
      "850\n",
      "900\n",
      "950\n",
      "1000\n",
      "1050\n",
      "1100\n",
      "1150\n",
      "1200\n",
      "1250\n",
      "1300\n",
      "1350\n",
      "1400\n",
      "1450\n",
      "1500\n",
      "1550\n",
      "1600\n",
      "1650\n",
      "1700\n",
      "1750\n",
      "1800\n",
      "1850\n",
      "1900\n",
      "1950\n",
      "0.5115\n"
     ]
    },
    {
     "data": {
      "image/png": "[encoded data removed]",
      "text/plain": [
       "<matplotlib.figure.Figure at 0x2039af74668>"
      ]
     },
     "metadata": {},
     "output_type": "display_data"
    }
   ],
   "source": [
    "try:\n",
    "    gym.make('FrozenLake-v3')\n",
    "except:\n",
    "    gym.envs.registration.register(\n",
    "        id='FrozenLake-v3',\n",
    "        entry_point='gym.envs.toy_text:FrozenLakeEnv',\n",
    "        kwargs={\n",
    "            'map_name': '4x4',\n",
    "            'is_slippery': True # This option is mandatory for dummy algorithm\n",
    "        }\n",
    "    )\n",
    "\n",
    "frozenLake = gym.make('FrozenLake-v3')\n",
    "\n",
    "result_list = reinforcement_learning(frozenLake)\n",
    "\n",
    "print(sum(result_list) / len(result_list))\n",
    "plt.bar(list(range(len(result_list))), result_list)\n",
    "plt.show()"
   ]
  },
  {
   "cell_type": "markdown",
   "metadata": {},
   "source": [
    "# Cart Pole"
   ]
  },
  {
   "cell_type": "code",
   "execution_count": 53,
   "metadata": {},
   "outputs": [
    {
     "name": "stdout",
     "output_type": "stream",
     "text": [
      "22.2175\n"
     ]
    },
    {
     "data": {
      "image/png": "[encoded data removed]",
      "text/plain": [
       "<matplotlib.figure.Figure at 0x2039c0667b8>"
      ]
     },
     "metadata": {},
     "output_type": "display_data"
    }
   ],
   "source": [
    "cartPole = gym.make('CartPole-v1')\n",
    "env = cartPole\n",
    "\n",
    "result_list = []\n",
    "\n",
    "for i in range(2000):\n",
    "    env.reset()\n",
    "    reward_sum = 0\n",
    "    done = False\n",
    "    while not done:\n",
    "        action = env.action_space.sample()\n",
    "        state, reward, done, _ = env.step(action)\n",
    "        reward_sum += reward\n",
    "    result_list.append(reward_sum)\n",
    "\n",
    "print(sum(result_list) / len(result_list))\n",
    "plt.bar(list(range(len(result_list))), result_list)\n",
    "plt.show()"
   ]
  },
  {
   "cell_type": "code",
   "execution_count": 62,
   "metadata": {},
   "outputs": [],
   "source": [
    "import time\n",
    "\n",
    "def reinforcement_learning(env):\n",
    "    input_size = env.observation_space.shape[0]\n",
    "    output_size = env.action_space.n\n",
    "    learning_rate = 0.1\n",
    "\n",
    "    X = tf.placeholder(shape=(1, input_size), dtype=tf.float32)\n",
    "    W = tf.get_variable(name='W_{}'.format(time.time()), shape=(input_size, output_size), initializer=tf.contrib.layers.xavier_initializer())\n",
    "    Qpred = tf.matmul(X, W)\n",
    "\n",
    "    Y = tf.placeholder(shape=(1, output_size), dtype=tf.float32)\n",
    "    loss = tf.reduce_sum(tf.square(Y - Qpred))\n",
    "    train = tf.train.AdamOptimizer(learning_rate=learning_rate).minimize(loss)\n",
    "\n",
    "    dis = 0.99\n",
    "    num_episodes = 2000\n",
    "\n",
    "    result_list = []\n",
    "\n",
    "    with tf.Session() as sess:\n",
    "        tf.global_variables_initializer().run()\n",
    "        for i in range(num_episodes):\n",
    "            if i % 50 == 0:\n",
    "                print(i)\n",
    "            state = env.reset()\n",
    "            e = 1 / ((i / 50) + 10)\n",
    "            rAll = 0\n",
    "            done = False\n",
    "            # local_loss = []\n",
    "\n",
    "            while not done:\n",
    "                Qs = sess.run(Qpred, feed_dict={X: state.reshape(1, 4)})\n",
    "                if np.random.rand(1) < e:\n",
    "                    action = env.action_space.sample()\n",
    "                else:\n",
    "                    action = np.argmax(Qs)\n",
    "                next_state, reward, done, _ = env.step(action)\n",
    "                if done:\n",
    "                    Qs[0, action] = -100\n",
    "                else:\n",
    "                    Qs1 = sess.run(Qpred, feed_dict={X: next_state.reshape(1, 4)})\n",
    "                    Qs[0, action] = reward + dis * np.max(Qs1)\n",
    "                train.run(feed_dict={X: state.reshape(1, 4), Y: Qs})\n",
    "\n",
    "                rAll += reward\n",
    "                state = next_state\n",
    "\n",
    "            result_list.append(rAll)\n",
    "    return result_list"
   ]
  },
  {
   "cell_type": "code",
   "execution_count": 63,
   "metadata": {},
   "outputs": [
    {
     "name": "stdout",
     "output_type": "stream",
     "text": [
      "0\n",
      "50\n",
      "100\n",
      "150\n",
      "200\n",
      "250\n",
      "300\n",
      "350\n",
      "400\n",
      "450\n",
      "500\n",
      "550\n",
      "600\n",
      "650\n",
      "700\n",
      "750\n",
      "800\n",
      "850\n",
      "900\n",
      "950\n",
      "1000\n",
      "1050\n",
      "1100\n",
      "1150\n",
      "1200\n",
      "1250\n",
      "1300\n",
      "1350\n",
      "1400\n",
      "1450\n",
      "1500\n",
      "1550\n",
      "1600\n",
      "1650\n",
      "1700\n",
      "1750\n",
      "1800\n",
      "1850\n",
      "1900\n",
      "1950\n",
      "26.063\n"
     ]
    },
    {
     "data": {
      "image/png": "[encoded data removed]",
      "text/plain": [
       "<matplotlib.figure.Figure at 0x2039c0e2358>"
      ]
     },
     "metadata": {},
     "output_type": "display_data"
    }
   ],
   "source": [
    "result_list = reinforcement_learning(cartPole)\n",
    "\n",
    "print(sum(result_list) / len(result_list))\n",
    "plt.bar(list(range(len(result_list))), result_list)\n",
    "plt.show()"
   ]
  },
  {
   "cell_type": "code",
   "execution_count": null,
   "metadata": {},
   "outputs": [],
   "source": []
  }
 ],
 "metadata": {
  "kernelspec": {
   "display_name": "Python 3",
   "language": "python",
   "name": "python3"
  },
  "language_info": {
   "codemirror_mode": {
    "name": "ipython",
    "version": 3
   },
   "file_extension": ".py",
   "mimetype": "text/x-python",
   "name": "python",
   "nbconvert_exporter": "python",
   "pygments_lexer": "ipython3",
   "version": "3.6.4"
  }
 },
 "nbformat": 4,
 "nbformat_minor": 2
}
