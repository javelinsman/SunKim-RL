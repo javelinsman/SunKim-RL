{
 "cells": [
  {
   "cell_type": "markdown",
   "metadata": {},
   "source": [
    "# Exploit vs. Exploration\n"
   ]
  },
  {
   "cell_type": "code",
   "execution_count": 2,
   "metadata": {},
   "outputs": [],
   "source": [
    "import gym\n",
    "import numpy as np\n",
    "\n",
    "try:\n",
    "    gym.make('FrozenLake-v3')\n",
    "except:\n",
    "    gym.envs.registration.register(\n",
    "        id='FrozenLake-v3',\n",
    "        entry_point='gym.envs.toy_text:FrozenLakeEnv',\n",
    "        kwargs={\n",
    "            'map_name': '4x4',\n",
    "            'is_slippery': False # This option is mandatory for dummy algorithm\n",
    "        }\n",
    "    )"
   ]
  },
  {
   "cell_type": "code",
   "execution_count": 22,
   "metadata": {},
   "outputs": [],
   "source": [
    "env = gym.make('FrozenLake-v3')\n",
    "\n",
    "\n",
    "Q = np.zeros((env.observation_space.n, env.action_space.n))\n",
    "num_episodes = 2000\n",
    "\n",
    "discount = 0.99\n",
    "\n",
    "total_rewards = []\n",
    "for i in range(num_episodes):\n",
    "    state = env.reset()\n",
    "    done = False\n",
    "    sum_rewards = 0\n",
    "    while not done:\n",
    "        action = np.argmax(Q[state,:] + np.random.randn(env.action_space.n) / (i+1))\n",
    "        new_state, reward, done, info = env.step(action)    \n",
    "        Q[state,action] = reward + discount * np.max(Q[new_state, :])\n",
    "        sum_rewards += reward\n",
    "        state = new_state\n",
    "    else:\n",
    "        total_rewards.append(sum_rewards)"
   ]
  },
  {
   "cell_type": "code",
   "execution_count": 24,
   "metadata": {},
   "outputs": [
    {
     "name": "stdout",
     "output_type": "stream",
     "text": [
      "0.972\n",
      "[[0.         0.         0.95099005 0.        ]\n",
      " [0.         0.         0.96059601 0.        ]\n",
      " [0.         0.970299   0.         0.        ]\n",
      " [0.         0.         0.         0.        ]\n",
      " [0.         0.         0.         0.        ]\n",
      " [0.         0.         0.         0.        ]\n",
      " [0.         0.9801     0.         0.        ]\n",
      " [0.         0.         0.         0.        ]\n",
      " [0.         0.         0.         0.        ]\n",
      " [0.         0.         0.         0.        ]\n",
      " [0.         0.99       0.         0.        ]\n",
      " [0.         0.         0.         0.        ]\n",
      " [0.         0.         0.         0.        ]\n",
      " [0.         0.         0.         0.        ]\n",
      " [0.         0.         1.         0.        ]\n",
      " [0.         0.         0.         0.        ]]\n"
     ]
    }
   ],
   "source": [
    "print(sum(total_rewards) / num_episodes)\n",
    "print(Q)"
   ]
  },
  {
   "cell_type": "code",
   "execution_count": 25,
   "metadata": {},
   "outputs": [
    {
     "data": {
      "image/png": "[encoded data removed]",
      "text/plain": [
       "<Figure size 432x288 with 1 Axes>"
      ]
     },
     "metadata": {
      "needs_background": "light"
     },
     "output_type": "display_data"
    }
   ],
   "source": [
    "import matplotlib.pyplot as plt\n",
    "plt.bar(list(range(len(total_rewards))), total_rewards)\n",
    "plt.show()"
   ]
  }
 ],
 "metadata": {
  "kernelspec": {
   "display_name": "Python 3",
   "language": "python",
   "name": "python3"
  },
  "language_info": {
   "codemirror_mode": {
    "name": "ipython",
    "version": 3
   },
   "file_extension": ".py",
   "mimetype": "text/x-python",
   "name": "python",
   "nbconvert_exporter": "python",
   "pygments_lexer": "ipython3",
   "version": "3.7.1"
  }
 },
 "nbformat": 4,
 "nbformat_minor": 2
}
