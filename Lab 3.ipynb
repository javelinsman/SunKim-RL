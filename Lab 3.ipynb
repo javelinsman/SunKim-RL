{
 "cells": [
  {
   "cell_type": "markdown",
   "metadata": {},
   "source": [
    "# Dummy Q Learning\n",
    "\n",
    "This code illustrates the fundamental structure of Q-learning, which is a typical form of reinforcement learning. However, the following algorithm does not implement fatal features like\n",
    "\n",
    "* discounted future reward\n",
    "* probabilistic outcome of action\n",
    "\n",
    "and hence only works for totally deterministic environment."
   ]
  },
  {
   "cell_type": "code",
   "execution_count": 1,
   "metadata": {},
   "outputs": [],
   "source": [
    "import gym\n",
    "import numpy as np\n",
    "\n",
    "try:\n",
    "    gym.make('FrozenLake-v3')\n",
    "except:\n",
    "    gym.envs.registration.register(\n",
    "        id='FrozenLake-v3',\n",
    "        entry_point='gym.envs.toy_text:FrozenLakeEnv',\n",
    "        kwargs={\n",
    "            'map_name': '4x4',\n",
    "            'is_slippery': False # This option is mandatory for dummy algorithm\n",
    "        }\n",
    "    )"
   ]
  },
  {
   "cell_type": "code",
   "execution_count": 2,
   "metadata": {},
   "outputs": [],
   "source": [
    "env = gym.make('FrozenLake-v3')\n",
    "\n",
    "\n",
    "Q = np.zeros((env.observation_space.n, env.action_space.n))\n",
    "num_episodes = 2000\n",
    "\n",
    "total_rewards = []\n",
    "for _ in range(num_episodes):\n",
    "    state = env.reset()\n",
    "    done = False\n",
    "    sum_rewards = 0\n",
    "    while not done:\n",
    "        action = np.random.choice(np.nonzero(Q[state,:] == np.max(Q[state,:]))[0])\n",
    "        new_state, reward, done, info = env.step(action)    \n",
    "        Q[state,action] = reward + np.max(Q[new_state, :])\n",
    "        sum_rewards += reward\n",
    "        state = new_state\n",
    "    else:\n",
    "        total_rewards.append(sum_rewards)"
   ]
  },
  {
   "cell_type": "code",
   "execution_count": 3,
   "metadata": {},
   "outputs": [
    {
     "name": "stdout",
     "output_type": "stream",
     "text": [
      "0.945\n"
     ]
    }
   ],
   "source": [
    "print(sum(total_rewards) / num_episodes)"
   ]
  },
  {
   "cell_type": "code",
   "execution_count": 5,
   "metadata": {},
   "outputs": [
    {
     "data": {
      "image/png": "[encoded data removed]",
      "text/plain": [
       "<matplotlib.figure.Figure at 0x1f0a45e9e48>"
      ]
     },
     "metadata": {},
     "output_type": "display_data"
    }
   ],
   "source": [
    "import matplotlib.pyplot as plt\n",
    "plt.bar(list(range(len(total_rewards))), total_rewards)\n",
    "plt.show()"
   ]
  }
 ],
 "metadata": {
  "kernelspec": {
   "display_name": "Python 3",
   "language": "python",
   "name": "python3"
  },
  "language_info": {
   "codemirror_mode": {
    "name": "ipython",
    "version": 3
   },
   "file_extension": ".py",
   "mimetype": "text/x-python",
   "name": "python",
   "nbconvert_exporter": "python",
   "pygments_lexer": "ipython3",
   "version": "3.6.4"
  }
 },
 "nbformat": 4,
 "nbformat_minor": 2
}
